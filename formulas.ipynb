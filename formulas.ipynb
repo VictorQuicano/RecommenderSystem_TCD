{
 "cells": [
  {
   "cell_type": "code",
   "execution_count": 1,
   "id": "abe8d4e0",
   "metadata": {},
   "outputs": [],
   "source": [
    "import pandas as pd\n",
    "movie_test = \"Pelis_short.csv\"\n",
    "movie_ratings = \"Movie_Ratings.csv\""
   ]
  },
  {
   "cell_type": "code",
   "execution_count": 2,
   "id": "3b648df6",
   "metadata": {},
   "outputs": [],
   "source": [
    "def getDataFrameAndUsers(df_selected):\n",
    "    df = pd.read_csv(df_selected, index_col=0)\n",
    "    users = df.columns\n",
    "    return df, users"
   ]
  },
  {
   "cell_type": "code",
   "execution_count": null,
   "id": "b0d9cbe0",
   "metadata": {},
   "outputs": [],
   "source": [
    "df, users =  getDataFrameAndUsers(movie_test)\n",
    "df.sample(5)"
   ]
  },
  {
   "cell_type": "code",
   "execution_count": null,
   "id": "029d5d59",
   "metadata": {},
   "outputs": [],
   "source": [
    "print(f\"# Usuario: {len(users)}\")"
   ]
  },
  {
   "cell_type": "code",
   "execution_count": null,
   "id": "1d6e9cdb",
   "metadata": {},
   "outputs": [],
   "source": [
    "# Importar Formulas\n",
    "from ManhattanFormulas import *"
   ]
  },
  {
   "cell_type": "code",
   "execution_count": null,
   "id": "e4aa6275",
   "metadata": {},
   "outputs": [],
   "source": [
    "df.iloc('Patrick C')"
   ]
  },
  {
   "cell_type": "code",
   "execution_count": null,
   "id": "6dd5a919",
   "metadata": {},
   "outputs": [],
   "source": [
    "d = manhattan_distance(a=[4,np.nan], b=[2,np.nan] )\n",
    "d"
   ]
  }
 ],
 "metadata": {
  "kernelspec": {
   "display_name": "venv",
   "language": "python",
   "name": "python3"
  },
  "language_info": {
   "codemirror_mode": {
    "name": "ipython",
    "version": 3
   },
   "file_extension": ".py",
   "mimetype": "text/x-python",
   "name": "python",
   "nbconvert_exporter": "python",
   "pygments_lexer": "ipython3",
   "version": "3.10.12"
  }
 },
 "nbformat": 4,
 "nbformat_minor": 5
}
