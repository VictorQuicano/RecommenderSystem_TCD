{
 "cells": [
  {
   "cell_type": "code",
   "execution_count": 4,
   "id": "471e778d",
   "metadata": {},
   "outputs": [],
   "source": [
    "movie_test = \"Pelis_short.csv\"\n",
    "mobie_ratings = \"Movie_Ratings.csv\""
   ]
  },
  {
   "cell_type": "code",
   "execution_count": 2,
   "id": "6cf19e0b",
   "metadata": {},
   "outputs": [],
   "source": [
    "import pandas as pd"
   ]
  },
  {
   "cell_type": "code",
   "execution_count": 5,
   "id": "8e195cce",
   "metadata": {},
   "outputs": [],
   "source": [
    "df = pd.read_csv(mobie_ratings)"
   ]
  },
  {
   "cell_type": "code",
   "execution_count": 6,
   "id": "14f20c67",
   "metadata": {},
   "outputs": [],
   "source": [
    "val1 = df[\"Heather\"].tolist()\n",
    "val2 = df[\"Thomas\"].tolist()"
   ]
  },
  {
   "cell_type": "code",
   "execution_count": 9,
   "id": "8c863d14",
   "metadata": {},
   "outputs": [
    {
     "name": "stdout",
     "output_type": "stream",
     "text": [
      "5.744562646538029\n"
     ]
    }
   ],
   "source": [
    "from euclidean_distance import *\n",
    "res = euclidean_distance(val1, val2)\n",
    "print(res)"
   ]
  }
 ],
 "metadata": {
  "kernelspec": {
   "display_name": "venv",
   "language": "python",
   "name": "python3"
  },
  "language_info": {
   "codemirror_mode": {
    "name": "ipython",
    "version": 3
   },
   "file_extension": ".py",
   "mimetype": "text/x-python",
   "name": "python",
   "nbconvert_exporter": "python",
   "pygments_lexer": "ipython3",
   "version": "3.12.7"
  }
 },
 "nbformat": 4,
 "nbformat_minor": 5
}
