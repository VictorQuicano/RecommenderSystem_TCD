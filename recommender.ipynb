{
 "cells": [
  {
   "cell_type": "code",
   "execution_count": 1,
   "id": "471e778d",
   "metadata": {},
   "outputs": [],
   "source": [
    "movie_test = \"Pelis_short.csv\"\n",
    "movie_ratings = \"Movie_Ratings.csv\""
   ]
  },
  {
   "cell_type": "code",
   "execution_count": 6,
   "id": "0dbce109",
   "metadata": {},
   "outputs": [
    {
     "data": {
      "text/html": [
       "<div>\n",
       "<style scoped>\n",
       "    .dataframe tbody tr th:only-of-type {\n",
       "        vertical-align: middle;\n",
       "    }\n",
       "\n",
       "    .dataframe tbody tr th {\n",
       "        vertical-align: top;\n",
       "    }\n",
       "\n",
       "    .dataframe thead th {\n",
       "        text-align: right;\n",
       "    }\n",
       "</style>\n",
       "<table border=\"1\" class=\"dataframe\">\n",
       "  <thead>\n",
       "    <tr style=\"text-align: right;\">\n",
       "      <th></th>\n",
       "      <th>Patrick C</th>\n",
       "      <th>Heather</th>\n",
       "      <th>Bryan</th>\n",
       "      <th>Patrick T</th>\n",
       "      <th>Thomas</th>\n",
       "      <th>aaron</th>\n",
       "    </tr>\n",
       "  </thead>\n",
       "  <tbody>\n",
       "    <tr>\n",
       "      <th>Alien</th>\n",
       "      <td>NaN</td>\n",
       "      <td>NaN</td>\n",
       "      <td>2.0</td>\n",
       "      <td>NaN</td>\n",
       "      <td>5.0</td>\n",
       "      <td>4.0</td>\n",
       "    </tr>\n",
       "    <tr>\n",
       "      <th>Avatar</th>\n",
       "      <td>4.0</td>\n",
       "      <td>5.0</td>\n",
       "      <td>5.0</td>\n",
       "      <td>4.0</td>\n",
       "      <td>2.0</td>\n",
       "      <td>NaN</td>\n",
       "    </tr>\n",
       "    <tr>\n",
       "      <th>Blade Runner</th>\n",
       "      <td>5.0</td>\n",
       "      <td>NaN</td>\n",
       "      <td>NaN</td>\n",
       "      <td>NaN</td>\n",
       "      <td>5.0</td>\n",
       "      <td>4.0</td>\n",
       "    </tr>\n",
       "    <tr>\n",
       "      <th>Braveheart</th>\n",
       "      <td>4.0</td>\n",
       "      <td>NaN</td>\n",
       "      <td>5.0</td>\n",
       "      <td>NaN</td>\n",
       "      <td>4.0</td>\n",
       "      <td>4.0</td>\n",
       "    </tr>\n",
       "    <tr>\n",
       "      <th>Dodgeball</th>\n",
       "      <td>5.0</td>\n",
       "      <td>4.0</td>\n",
       "      <td>3.0</td>\n",
       "      <td>2.0</td>\n",
       "      <td>4.0</td>\n",
       "      <td>NaN</td>\n",
       "    </tr>\n",
       "  </tbody>\n",
       "</table>\n",
       "</div>"
      ],
      "text/plain": [
       "              Patrick C  Heather  Bryan  Patrick T  Thomas  aaron\n",
       "Alien               NaN      NaN    2.0        NaN     5.0    4.0\n",
       "Avatar              4.0      5.0    5.0        4.0     2.0    NaN\n",
       "Blade Runner        5.0      NaN    NaN        NaN     5.0    4.0\n",
       "Braveheart          4.0      NaN    5.0        NaN     4.0    4.0\n",
       "Dodgeball           5.0      4.0    3.0        2.0     4.0    NaN"
      ]
     },
     "execution_count": 6,
     "metadata": {},
     "output_type": "execute_result"
    }
   ],
   "source": [
    "import pandas as pd\n",
    "df = pd.read_csv('Pelis_short.csv', index_col=0)\n",
    "df.head()\n"
   ]
  },
  {
   "cell_type": "code",
   "execution_count": 9,
   "id": "b151671c",
   "metadata": {},
   "outputs": [
    {
     "name": "stdout",
     "output_type": "stream",
     "text": [
      "Coeficiente Pearson entre Patrick C y Heather: 0.129\n",
      "Coeficiente Pearson entre Bryan y Thomas: 0.120\n"
     ]
    }
   ],
   "source": [
    "import numpy as np\n",
    "\n",
    "df_peliculas = pd.read_csv('Pelis_short.csv', index_col=0)\n",
    "\n",
    "def similitud_pearson(serie_usuario_a: pd.Series, serie_usuario_b: pd.Series) -> float:\n",
    "    #peliculas calificadas por los 2 usuarios, no las otras\n",
    "    peliculas_comunes = serie_usuario_a.notna() & serie_usuario_b.notna()\n",
    "    \n",
    "    #vectores de calificaciones\n",
    "    calificaciones_usuario_a = serie_usuario_a[peliculas_comunes].values\n",
    "    calificaciones_usuario_b = serie_usuario_b[peliculas_comunes].values\n",
    "    \n",
    "    #EXCEPCIÓN: Si hay menos de 2 calificaciones en común, no hay suficiente información\n",
    "    if len(calificaciones_usuario_a) < 2:\n",
    "        return 0.0\n",
    "    \n",
    "    # medias de cada usuario sobre las películas comunes\n",
    "    media_usuario_a = np.mean(calificaciones_usuario_a)\n",
    "    media_usuario_b = np.mean(calificaciones_usuario_b)\n",
    "    \n",
    "    #numerador (covarianza empírica) y denominador (producto de desviaciones)\n",
    "    numerador_covarianza = np.sum(\n",
    "        (calificaciones_usuario_a - media_usuario_a) *\n",
    "        (calificaciones_usuario_b - media_usuario_b)\n",
    "    )\n",
    "    desviacion_usuario_a = np.sqrt(np.sum((calificaciones_usuario_a - media_usuario_a) ** 2))\n",
    "    desviacion_usuario_b = np.sqrt(np.sum((calificaciones_usuario_b - media_usuario_b) ** 2))\n",
    "    producto_desviaciones = desviacion_usuario_a * desviacion_usuario_b\n",
    "    \n",
    "    #Prevenir división por cero\n",
    "    if producto_desviaciones == 0:\n",
    "        return 0.0\n",
    "    \n",
    "    #Devolver coeficiente de Pearson\n",
    "    return numerador_covarianza / producto_desviaciones\n",
    "\n",
    "# EJemplo\n",
    "usuario_a = df_peliculas['Patrick C']\n",
    "usuario_b = df_peliculas['Heather']\n",
    "coeficiente = similitud_pearson(usuario_a, usuario_b)\n",
    "print(f\"Coeficiente Pearson entre Patrick C y Heather: {coeficiente:.3f}\")\n",
    "\n",
    "usuario_a = df_peliculas['Bryan']\n",
    "usuario_b = df_peliculas['Thomas']\n",
    "coeficiente = similitud_pearson(usuario_a, usuario_b)\n",
    "print(f\"Coeficiente Pearson entre Bryan y Thomas: {coeficiente:.3f}\")\n"
   ]
  }
 ],
 "metadata": {
  "kernelspec": {
   "display_name": "venv",
   "language": "python",
   "name": "python3"
  },
  "language_info": {
   "codemirror_mode": {
    "name": "ipython",
    "version": 3
   },
   "file_extension": ".py",
   "mimetype": "text/x-python",
   "name": "python",
   "nbconvert_exporter": "python",
   "pygments_lexer": "ipython3",
   "version": "3.12.3"
  }
 },
 "nbformat": 4,
 "nbformat_minor": 5
}
