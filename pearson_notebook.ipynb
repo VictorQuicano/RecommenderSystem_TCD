{
 "cells": [
  {
   "cell_type": "code",
   "execution_count": null,
   "id": "e32ee043",
   "metadata": {},
   "outputs": [],
   "source": [
    "movie_test = \"Pelis_short.csv\"\n",
    "movie_ratings = \"Movie_Ratings.csv\""
   ]
  },
  {
   "cell_type": "code",
   "execution_count": null,
   "id": "9795716b",
   "metadata": {},
   "outputs": [],
   "source": [
    "import pandas as pd\n",
    "df = pd.read_csv('Pelis_short.csv', index_col=0)\n",
    "df.head()\n"
   ]
  },
  {
   "cell_type": "code",
   "execution_count": null,
   "id": "6b2a14da",
   "metadata": {},
   "outputs": [],
   "source": [
    "import numpy as np\n",
    "\n",
    "df_peliculas = pd.read_csv('Pelis_short.csv', index_col=0)\n",
    "\n",
    "def similitud_pearson(serie_usuario_a: pd.Series, serie_usuario_b: pd.Series) -> float:\n",
    "    #peliculas calificadas por los 2 usuarios, no las otras\n",
    "    peliculas_comunes = serie_usuario_a.notna() & serie_usuario_b.notna()\n",
    "    \n",
    "    #vectores de calificaciones\n",
    "    calificaciones_usuario_a = serie_usuario_a[peliculas_comunes].values\n",
    "    calificaciones_usuario_b = serie_usuario_b[peliculas_comunes].values\n",
    "    \n",
    "    #EXCEPCIÓN: Si hay menos de 2 calificaciones en común, no hay suficiente información\n",
    "    if len(calificaciones_usuario_a) < 2:\n",
    "        return 0.0\n",
    "    \n",
    "    # medias de cada usuario sobre las películas comunes\n",
    "    media_usuario_a = np.mean(calificaciones_usuario_a)\n",
    "    media_usuario_b = np.mean(calificaciones_usuario_b)\n",
    "    \n",
    "    #numerador (covarianza empírica) y denominador (producto de desviaciones)\n",
    "    numerador_covarianza = np.sum(\n",
    "        (calificaciones_usuario_a - media_usuario_a) *\n",
    "        (calificaciones_usuario_b - media_usuario_b)\n",
    "    )\n",
    "    desviacion_usuario_a = np.sqrt(np.sum((calificaciones_usuario_a - media_usuario_a) ** 2))\n",
    "    desviacion_usuario_b = np.sqrt(np.sum((calificaciones_usuario_b - media_usuario_b) ** 2))\n",
    "    producto_desviaciones = desviacion_usuario_a * desviacion_usuario_b\n",
    "    \n",
    "    #Prevenir división por cero\n",
    "    if producto_desviaciones == 0:\n",
    "        return 0.0\n",
    "    \n",
    "    #Devolver coeficiente de Pearson\n",
    "    return numerador_covarianza / producto_desviaciones\n",
    "\n",
    "# EJemplo\n",
    "usuario_a = df_peliculas['Patrick C']\n",
    "usuario_b = df_peliculas['Heather']\n",
    "coeficiente = similitud_pearson(usuario_a, usuario_b)\n",
    "print(f\"Coeficiente Pearson entre Patrick C y Heather: {coeficiente:.3f}\")\n",
    "\n",
    "usuario_a = df_peliculas['Bryan']\n",
    "usuario_b = df_peliculas['Thomas']\n",
    "coeficiente = similitud_pearson(usuario_a, usuario_b)\n",
    "print(f\"Coeficiente Pearson entre Bryan y Thomas: {coeficiente:.3f}\")\n"
   ]
  }
 ],
 "metadata": {
  "language_info": {
   "name": "python"
  }
 },
 "nbformat": 4,
 "nbformat_minor": 5
}
