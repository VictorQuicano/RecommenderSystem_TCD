{
 "cells": [
  {
   "cell_type": "code",
   "execution_count": null,
   "id": "762db0f6",
   "metadata": {},
   "outputs": [],
   "source": [
    "import pandas as pd\n",
    "movie_test = \"Pelis_short.csv\"\n",
    "movie_ratings = \"Movie_Ratings.csv\"\n",
    "from KNN_Recommender as * "
   ]
  },
  {
   "cell_type": "code",
   "execution_count": 2,
   "id": "82f9b3a8",
   "metadata": {},
   "outputs": [],
   "source": [
    "def getDataFrameAndUsers(df_selected):\n",
    "    df = pd.read_csv(df_selected, index_col=0)\n",
    "    users = df.columns\n",
    "    return df, users\n"
   ]
  },
  {
   "cell_type": "code",
   "execution_count": 3,
   "id": "8b904568",
   "metadata": {},
   "outputs": [],
   "source": [
    "df, users =  getDataFrameAndUsers(movie_test)"
   ]
  },
  {
   "cell_type": "code",
   "execution_count": 4,
   "id": "a7507d78",
   "metadata": {},
   "outputs": [
    {
     "ename": "TypeError",
     "evalue": "'module' object is not callable",
     "output_type": "error",
     "traceback": [
      "\u001b[0;31m---------------------------------------------------------------------------\u001b[0m",
      "\u001b[0;31mTypeError\u001b[0m                                 Traceback (most recent call last)",
      "Cell \u001b[0;32mIn[4], line 1\u001b[0m\n\u001b[0;32m----> 1\u001b[0m reco \u001b[38;5;241m=\u001b[39m \u001b[43mKNN\u001b[49m\u001b[43m(\u001b[49m\u001b[43mdf\u001b[49m\u001b[43m,\u001b[49m\u001b[43mumbral_rating\u001b[49m\u001b[38;5;241;43m=\u001b[39;49m\u001b[38;5;241;43m4.5\u001b[39;49m\u001b[43m)\u001b[49m\n",
      "\u001b[0;31mTypeError\u001b[0m: 'module' object is not callable"
     ]
    }
   ],
   "source": [
    "reco = KNN(df,umbral_rating=4.5)"
   ]
  }
 ],
 "metadata": {
  "kernelspec": {
   "display_name": "venv",
   "language": "python",
   "name": "python3"
  },
  "language_info": {
   "codemirror_mode": {
    "name": "ipython",
    "version": 3
   },
   "file_extension": ".py",
   "mimetype": "text/x-python",
   "name": "python",
   "nbconvert_exporter": "python",
   "pygments_lexer": "ipython3",
   "version": "3.12.3"
  }
 },
 "nbformat": 4,
 "nbformat_minor": 5
}
