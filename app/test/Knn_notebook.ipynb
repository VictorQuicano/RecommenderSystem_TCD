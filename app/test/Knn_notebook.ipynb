{
 "cells": [
  {
   "cell_type": "code",
   "execution_count": 1,
   "id": "80e8ce15",
   "metadata": {},
   "outputs": [],
   "source": [
    "import pandas as pd\n",
    "movie_test = \"Pelis_short.csv\"\n",
    "movie_ratings = \"Movie_Ratings.csv\""
   ]
  },
  {
   "cell_type": "code",
   "execution_count": 4,
   "id": "f23ca6c4",
   "metadata": {},
   "outputs": [],
   "source": [
    "from Knn import *\n",
    "from formulas import *"
   ]
  },
  {
   "cell_type": "code",
   "execution_count": 2,
   "id": "c01bf4c5",
   "metadata": {},
   "outputs": [],
   "source": [
    "def getDataFrameAndUsers(df_selected):\n",
    "    df = pd.read_csv(df_selected, index_col=0)\n",
    "    users = df.columns\n",
    "    return df, users"
   ]
  },
  {
   "cell_type": "code",
   "execution_count": 3,
   "id": "8779cf17",
   "metadata": {},
   "outputs": [],
   "source": [
    "df, users =  getDataFrameAndUsers(movie_test)"
   ]
  },
  {
   "cell_type": "code",
   "execution_count": 6,
   "id": "3afa1a73",
   "metadata": {},
   "outputs": [],
   "source": [
    "def find_knn_for_column(df, target_column, distance_type='euclidean', k=5):\n",
    "    \"\"\"\n",
    "    Función principal para encontrar los K vecinos más cercanos.\n",
    "    \n",
    "    Parámetros:\n",
    "    df -- DataFrame de pandas\n",
    "    target_column -- nombre de la columna objetivo\n",
    "    distance_type -- tipo de distancia a usar ('euclidean', 'manhattan', 'pearson', 'cosine')\n",
    "    k -- número de vecinos a retornar\n",
    "    \n",
    "    Retorna:\n",
    "    DataFrame con los k vecinos más cercanos y sus distancias\n",
    "    \"\"\"\n",
    "    # Seleccionar la función de distancia\n",
    "    distance_functions = {\n",
    "        'euclidean': euclidean_distance,\n",
    "        'manhattan': manhattan_distance,\n",
    "        'pearson': pearson_distance,\n",
    "        'cosine': cosine_distance\n",
    "    }\n",
    "    \n",
    "    if distance_type not in distance_functions:\n",
    "        raise ValueError(f\"Tipo de distancia no válido. Opciones: {list(distance_functions.keys())}\")\n",
    "    \n",
    "    # Crear el calculador de KNN\n",
    "    knn_calculator = KNNCalcularDistancia(distance_functions[distance_type])\n",
    "    \n",
    "    # Obtener los K vecinos más cercanos\n",
    "    return knn_calculator.get_knn(df, target_column, k)"
   ]
  },
  {
   "cell_type": "code",
   "execution_count": 11,
   "id": "d3056109",
   "metadata": {},
   "outputs": [
    {
     "data": {
      "text/html": [
       "<div>\n",
       "<style scoped>\n",
       "    .dataframe tbody tr th:only-of-type {\n",
       "        vertical-align: middle;\n",
       "    }\n",
       "\n",
       "    .dataframe tbody tr th {\n",
       "        vertical-align: top;\n",
       "    }\n",
       "\n",
       "    .dataframe thead th {\n",
       "        text-align: right;\n",
       "    }\n",
       "</style>\n",
       "<table border=\"1\" class=\"dataframe\">\n",
       "  <thead>\n",
       "    <tr style=\"text-align: right;\">\n",
       "      <th></th>\n",
       "      <th>Distancia</th>\n",
       "    </tr>\n",
       "  </thead>\n",
       "  <tbody>\n",
       "    <tr>\n",
       "      <th>Thomas</th>\n",
       "      <td>10.0</td>\n",
       "    </tr>\n",
       "    <tr>\n",
       "      <th>Heather</th>\n",
       "      <td>11.0</td>\n",
       "    </tr>\n",
       "    <tr>\n",
       "      <th>aaron</th>\n",
       "      <td>11.0</td>\n",
       "    </tr>\n",
       "    <tr>\n",
       "      <th>Bryan</th>\n",
       "      <td>14.0</td>\n",
       "    </tr>\n",
       "  </tbody>\n",
       "</table>\n",
       "</div>"
      ],
      "text/plain": [
       "         Distancia\n",
       "Thomas        10.0\n",
       "Heather       11.0\n",
       "aaron         11.0\n",
       "Bryan         14.0"
      ]
     },
     "execution_count": 11,
     "metadata": {},
     "output_type": "execute_result"
    }
   ],
   "source": [
    "find_knn_for_column(df, 'Patrick C','manhattan', 4)"
   ]
  },
  {
   "cell_type": "code",
   "execution_count": 13,
   "id": "bf40c079",
   "metadata": {},
   "outputs": [
    {
     "data": {
      "text/html": [
       "<div>\n",
       "<style scoped>\n",
       "    .dataframe tbody tr th:only-of-type {\n",
       "        vertical-align: middle;\n",
       "    }\n",
       "\n",
       "    .dataframe tbody tr th {\n",
       "        vertical-align: top;\n",
       "    }\n",
       "\n",
       "    .dataframe thead th {\n",
       "        text-align: right;\n",
       "    }\n",
       "</style>\n",
       "<table border=\"1\" class=\"dataframe\">\n",
       "  <thead>\n",
       "    <tr style=\"text-align: right;\">\n",
       "      <th></th>\n",
       "      <th>Distancia</th>\n",
       "    </tr>\n",
       "  </thead>\n",
       "  <tbody>\n",
       "    <tr>\n",
       "      <th>Thomas</th>\n",
       "      <td>0.033869</td>\n",
       "    </tr>\n",
       "    <tr>\n",
       "      <th>Bryan</th>\n",
       "      <td>0.043499</td>\n",
       "    </tr>\n",
       "    <tr>\n",
       "      <th>Heather</th>\n",
       "      <td>0.046799</td>\n",
       "    </tr>\n",
       "    <tr>\n",
       "      <th>aaron</th>\n",
       "      <td>0.054774</td>\n",
       "    </tr>\n",
       "  </tbody>\n",
       "</table>\n",
       "</div>"
      ],
      "text/plain": [
       "         Distancia\n",
       "Thomas    0.033869\n",
       "Bryan     0.043499\n",
       "Heather   0.046799\n",
       "aaron     0.054774"
      ]
     },
     "execution_count": 13,
     "metadata": {},
     "output_type": "execute_result"
    }
   ],
   "source": [
    "find_knn_for_column(df, 'Patrick C','cosine', 4)"
   ]
  },
  {
   "cell_type": "code",
   "execution_count": 14,
   "id": "489ff3d8",
   "metadata": {},
   "outputs": [
    {
     "data": {
      "text/html": [
       "<div>\n",
       "<style scoped>\n",
       "    .dataframe tbody tr th:only-of-type {\n",
       "        vertical-align: middle;\n",
       "    }\n",
       "\n",
       "    .dataframe tbody tr th {\n",
       "        vertical-align: top;\n",
       "    }\n",
       "\n",
       "    .dataframe thead th {\n",
       "        text-align: right;\n",
       "    }\n",
       "</style>\n",
       "<table border=\"1\" class=\"dataframe\">\n",
       "  <thead>\n",
       "    <tr style=\"text-align: right;\">\n",
       "      <th></th>\n",
       "      <th>Distancia</th>\n",
       "    </tr>\n",
       "  </thead>\n",
       "  <tbody>\n",
       "    <tr>\n",
       "      <th>Thomas</th>\n",
       "      <td>4.000000</td>\n",
       "    </tr>\n",
       "    <tr>\n",
       "      <th>Heather</th>\n",
       "      <td>4.123106</td>\n",
       "    </tr>\n",
       "    <tr>\n",
       "      <th>aaron</th>\n",
       "      <td>4.123106</td>\n",
       "    </tr>\n",
       "    <tr>\n",
       "      <th>Bryan</th>\n",
       "      <td>4.472136</td>\n",
       "    </tr>\n",
       "  </tbody>\n",
       "</table>\n",
       "</div>"
      ],
      "text/plain": [
       "         Distancia\n",
       "Thomas    4.000000\n",
       "Heather   4.123106\n",
       "aaron     4.123106\n",
       "Bryan     4.472136"
      ]
     },
     "execution_count": 14,
     "metadata": {},
     "output_type": "execute_result"
    }
   ],
   "source": [
    "find_knn_for_column(df,'Patrick C','euclidean', 4)"
   ]
  },
  {
   "cell_type": "code",
   "execution_count": 15,
   "id": "35a4740b",
   "metadata": {},
   "outputs": [
    {
     "data": {
      "text/html": [
       "<div>\n",
       "<style scoped>\n",
       "    .dataframe tbody tr th:only-of-type {\n",
       "        vertical-align: middle;\n",
       "    }\n",
       "\n",
       "    .dataframe tbody tr th {\n",
       "        vertical-align: top;\n",
       "    }\n",
       "\n",
       "    .dataframe thead th {\n",
       "        text-align: right;\n",
       "    }\n",
       "</style>\n",
       "<table border=\"1\" class=\"dataframe\">\n",
       "  <thead>\n",
       "    <tr style=\"text-align: right;\">\n",
       "      <th></th>\n",
       "      <th>Distancia</th>\n",
       "    </tr>\n",
       "  </thead>\n",
       "  <tbody>\n",
       "    <tr>\n",
       "      <th>Thomas</th>\n",
       "      <td>0.288943</td>\n",
       "    </tr>\n",
       "    <tr>\n",
       "      <th>Bryan</th>\n",
       "      <td>0.426929</td>\n",
       "    </tr>\n",
       "    <tr>\n",
       "      <th>aaron</th>\n",
       "      <td>0.610045</td>\n",
       "    </tr>\n",
       "    <tr>\n",
       "      <th>Patrick T</th>\n",
       "      <td>0.814919</td>\n",
       "    </tr>\n",
       "  </tbody>\n",
       "</table>\n",
       "</div>"
      ],
      "text/plain": [
       "           Distancia\n",
       "Thomas      0.288943\n",
       "Bryan       0.426929\n",
       "aaron       0.610045\n",
       "Patrick T   0.814919"
      ]
     },
     "execution_count": 15,
     "metadata": {},
     "output_type": "execute_result"
    }
   ],
   "source": [
    "find_knn_for_column(df,'Patrick C','pearson', 4)"
   ]
  }
 ],
 "metadata": {
  "kernelspec": {
   "display_name": "venv",
   "language": "python",
   "name": "python3"
  },
  "language_info": {
   "codemirror_mode": {
    "name": "ipython",
    "version": 3
   },
   "file_extension": ".py",
   "mimetype": "text/x-python",
   "name": "python",
   "nbconvert_exporter": "python",
   "pygments_lexer": "ipython3",
   "version": "3.10.12"
  }
 },
 "nbformat": 4,
 "nbformat_minor": 5
}
